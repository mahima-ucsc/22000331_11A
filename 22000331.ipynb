{
 "cells": [
  {
   "cell_type": "code",
   "execution_count": null,
   "id": "a4099069-c46c-4eef-83c5-d1e7af653715",
   "metadata": {},
   "outputs": [],
   "source": []
  }
 ],
 "metadata": {
  "kernelspec": {
   "display_name": "",
   "name": ""
  },
  "language_info": {
   "name": ""
  }
 },
 "nbformat": 4,
 "nbformat_minor": 5
}
